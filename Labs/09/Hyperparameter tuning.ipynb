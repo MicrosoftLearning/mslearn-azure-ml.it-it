{
  "cells": [
    {
      "cell_type": "markdown",
      "metadata": {},
      "source": [
        "# Ottimizzare gli iperparametri con un processo sweep\n",
        "\n",
        "Esistono molti algoritmi di Machine Learning che richiedono iperparametri (i valori dei parametri che influenzano il training, ma non possono essere determinati dai dati di training stessi). Ad esempio, quando si esegue il training di un modello di regressione logistica, è possibile usare un iperparametro di frequenza di regolarizzazione per contrastare la distorsione nel modello; oppure quando si esegue il training di una rete neurale convoluzionale, è possibile usare iperparametri come frequenza di apprendimento e dimensioni batch per controllare la regolazione dei pesi e il numero di elementi di dati elaborati rispettivamente in un mini batch. La scelta dei valori degli iperparametri può influire in modo significativo sulle prestazioni di un modello sottoposto a training o sul tempo impiegato per eseguirne il training; e spesso è necessario provare più combinazioni per trovare la soluzione ottimale. \n",
        "\n",
        "## Prima di iniziare\n",
        "\n",
        "Per eseguire il codice in questo notebook, è necessaria la versione più recente del pacchetto  **azureml-ai-ml** . Eseguire la cella seguente per verificare che sia installata.\n",
        "\n",
        "> **Nota**:\n",
        "> Se il pacchetto **azure-ai-ml** non è installato, eseguire `pip install azure-ai-ml` per installarlo."
      ]
    },
    {
      "cell_type": "code",
      "execution_count": null,
      "metadata": {
        "gather": {
          "logged": 1667591781367
        },
        "vscode": {
          "languageId": "python"
        }
      },
      "outputs": [],
      "source": [
        "## Connettersi all'area di lavoro\n",
        "\n",
        "Dopo aver installato i pacchetti SDK necessari, è ora possibile connettersi all'area di lavoro.\n",
        "\n",
        "Per connettersi a un'area di lavoro, sono necessari parametri di identificatore: ID sottoscrizione, nome del gruppo di risorse e nome dell'area di lavoro. Il nome del gruppo di risorse e il nome dell'area di lavoro sono già compilati automaticamente. Per completare il comando è necessario solo l'ID sottoscrizione.\n",
        "\n",
        "Per trovare i parametri necessari, fare clic sulla sottoscrizione e sul nome dell'area di lavoro in alto a destra di Studio. Verrà aperto un riquadro a destra.\n",
        "\n",
        "<p style=\"color:red;font-size:120%;background-color:yellow;font-weight:bold\"> Copiare l'ID sottoscrizione e sostituire **YOUR-SUBSCRIPTION-ID** con il valore copiato. </p>"
      ]
    },
    {
      "attachments": {},
      "cell_type": "markdown",
      "metadata": {},
      "source": [
        "## Creare uno script di training\n",
        "L'ottimizzazione degli iperparametri è ideale quando si vuole eseguire il training di modelli di Machine Learning, ma variano i parametri di input. Sarà necessario creare uno script di training che prevede un parametro di input che rappresenta uno degli iperparametri dell'algoritmo.\n",
        "\n",
        "Eseguire le celle seguenti per creare la cartella **src** e lo script di training.\n",
        "\n",
        "Si noti che lo script di training prevede due parametri di input:\n",
        "\n",
        "- `--training_data` che prevede una stringa. Specificare il percorso di un asset di dati registrato come dati di training di input.\n",
        "- `--reg_rate`che prevede un numero, ma ha un valore predefinito .`0.01` Questo parametro di input verrà usato per l'ottimizzazione degli iperparametri."
      ]
    },
    {
      "cell_type": "code",
      "execution_count": null,
      "metadata": {
        "gather": {
          "logged": 1667591793668
        },
        "vscode": {
          "languageId": "python"
        }
      },
      "outputs": [],
      "source": [
        "## Configurare ed eseguire un processo di comando\n",
        "\n",
        "Eseguire la cella seguente per eseguire il training di un modello di classificazione per stimare il diabete. Il training del modello viene eseguito eseguendo lo script **py di training\\.** disponibile nella cartella **src**. Usa l'asset di dati registrato `diabetes-data` come dati di training. \n",
        "\n",
        "- `code`: specifica la cartella che include lo script da eseguire.\n",
        "- `command`: specifica cosa eseguire esattamente.\n",
        "- `environment`: specifica i pacchetti necessari da installare nel calcolo prima di eseguire il comando .\n",
        "- `compute`: specifica il calcolo da usare per eseguire il comando.\n",
        "- `display_name`: nome del singolo processo.\n",
        "- `experiment_name`: nome dell'esperimento a cui appartiene il processo.\n",
        "\n",
        "Si noti che il processo di comando esegue lo script di training una sola volta, con una frequenza di regolarizzazione di `0.1`. Prima di eseguire un processo di sweep per ottimizzare gli iperparametri, è consigliabile verificare se lo script funziona come previsto con un processo di comando."
      ]
    },
    {
      "cell_type": "code",
      "execution_count": null,
      "metadata": {
        "gather": {
          "logged": 1667591797746
        },
        "vscode": {
          "languageId": "python"
        }
      },
      "outputs": [],
      "source": [
        "## Definire lo spazio di ricerca\n",
        "\n",
        "Al termine del processo di comando, è possibile configurare ed eseguire un processo sweep. \n",
        "\n",
        "In primo luogo, è necessario specificare lo spazio di ricerca per l'iperparametro. Per eseguire il training di tre modelli, ognuno con una frequenza di regolarizzazione diversa (`0.01`, `0.1`o `1`), è possibile definire lo spazio di ricerca con un `Choice` iperparametro. "
      ]
    },
    {
      "cell_type": "markdown",
      "metadata": {},
      "source": [
        "## Configurare e inviare il processo sweep\n",
        "\n",
        "Si userà la funzione sweep per eseguire l'ottimizzazione degli iperparametri nello script di training. Per configurare un processo sweep, è necessario configurare quanto segue:\n",
        "\n",
        "- `compute`: nome della destinazione di calcolo in cui eseguire il processo.\n",
        "- `sampling_algorithm`: algoritmo di campionamento degli iperparametri da usare nello spazio di ricerca. I valori consentiti sono `random`, `grid` e `bayesian`.\n",
        "- `primary_metric`: nome della metrica primaria segnalata da ogni processo di valutazione. La metrica deve essere registrata nello script di training dell'utente usando `mlflow.log_metric()` con lo stesso nome della metrica corrispondente.\n",
        "- `goal`: obiettivo di ottimizzazione dell'oggetto `primary_metric`. I valori consentiti sono `maximize` e `minimize`.\n",
        "- `limits`: limiti per il processo sweep. Ad esempio, la quantità massima di prove o modelli di cui si vuole eseguire il training.\n",
        "\n",
        "Si noti che il processo di comando viene usato come base per il processo sweep. La configurazione per il processo di comando verrà riutilizzata dal processo sweep."
      ]
    },
    {
      "cell_type": "code",
      "execution_count": null,
      "metadata": {
        "gather": {
          "logged": 1667591853637
        },
        "vscode": {
          "languageId": "python"
        }
      },
      "outputs": [],
      "source": [
        "Eseguire la cella seguente per inviare il processo sweep."
      ]
    },
    {
      "cell_type": "code",
      "execution_count": null,
      "metadata": {
        "vscode": {
          "languageId": "python"
        }
      },
      "outputs": [],
      "source": [
        "Al termine del processo, passare alla panoramica del processo. Nella scheda **Versioni di** valutazione verranno visualizzati tutti i modelli sottoposti a training e il modo in cui il `Accuracy` punteggio è diverso per ogni valore di frequenza di regolarizzazione provato."
      ]
    },
    {
      "cell_type": "markdown",
      "metadata": {},
      "source": [
        "## Configure and run a command job\n",
        "\n",
        "Run the cell below to train a classification model to predict diabetes. The model is trained by running the **train\\.py** script that can be found in the **src** folder. It uses the registered `diabetes-data` data asset as the training data. \n",
        "\n",
        "- `code`: specifies the folder that includes the script to run.\n",
        "- `command`: specifies what to run exactly.\n",
        "- `environment`: specifies the necessary packages to be installed on the compute before running the command.\n",
        "- `compute`: specifies the compute to use to run the command.\n",
        "- `display_name`: the name of the individual job.\n",
        "- `experiment_name`: the name of the experiment the job belongs to.\n",
        "\n",
        "Note that the command job only runs the training script once, with a regularization rate of `0.1`. Before you run a sweep job to tune hyperparameters, it's a best practice to test whether your script works as expected with a command job."
      ]
    },
    {
      "cell_type": "code",
      "execution_count": null,
      "metadata": {
        "gather": {
          "logged": 1667592538771
        },
        "jupyter": {
          "outputs_hidden": false,
          "source_hidden": false
        },
        "nteract": {
          "transient": {
            "deleting": false
          }
        },
        "vscode": {
          "languageId": "python"
        }
      },
      "outputs": [],
      "source": [
        "from azure.ai.ml import command, Input\n",
        "from azure.ai.ml.constants import AssetTypes\n",
        "\n",
        "# configure job\n",
        "\n",
        "job = command(\n",
        "    code=\"./src\",\n",
        "    command=\"python train.py --training_data ${{inputs.diabetes_data}} --reg_rate ${{inputs.reg_rate}}\",\n",
        "    inputs={\n",
        "        \"diabetes_data\": Input(\n",
        "            type=AssetTypes.URI_FILE, \n",
        "            path=\"azureml:diabetes-data:1\"\n",
        "            ),\n",
        "        \"reg_rate\": 0.01,\n",
        "    },\n",
        "    environment=\"AzureML-sklearn-0.24-ubuntu18.04-py37-cpu@latest\",\n",
        "    compute=\"aml-cluster\",\n",
        "    display_name=\"diabetes-train-mlflow\",\n",
        "    experiment_name=\"diabetes-training\", \n",
        "    tags={\"model_type\": \"LogisticRegression\"}\n",
        "    )\n",
        "\n",
        "# submit job\n",
        "returned_job = ml_client.create_or_update(job)\n",
        "aml_url = returned_job.studio_url\n",
        "print(\"Monitor your job at\", aml_url)"
      ]
    },
    {
      "cell_type": "markdown",
      "metadata": {
        "nteract": {
          "transient": {
            "deleting": false
          }
        }
      },
      "source": [
        "## Define the search space\n",
        "\n",
        "When your command job has completed successfully, you can configure and run a sweep job. \n",
        "\n",
        "First, you'll need to specify the search space for your hyperparameter. To train three models, each with a different regularization rate (`0.01`, `0.1`, or `1`), you can define the search space with a `Choice` hyperparameter. "
      ]
    },
    {
      "cell_type": "code",
      "execution_count": null,
      "metadata": {
        "gather": {
          "logged": 1667592546442
        },
        "jupyter": {
          "outputs_hidden": false,
          "source_hidden": false
        },
        "nteract": {
          "transient": {
            "deleting": false
          }
        },
        "vscode": {
          "languageId": "python"
        }
      },
      "outputs": [],
      "source": [
        "from azure.ai.ml.sweep import Choice\n",
        "\n",
        "command_job_for_sweep = job(\n",
        "    reg_rate=Choice(values=[0.01, 0.1, 1]),\n",
        ")"
      ]
    },
    {
      "cell_type": "markdown",
      "metadata": {},
      "source": [
        "## Configure and submit the sweep job\n",
        "\n",
        "You'll use the sweep function to do hyperparameter tuning on your training script. To configure a sweep job, you'll need to configure the following:\n",
        "\n",
        "- `compute`: Name of the compute target to execute the job on.\n",
        "- `sampling_algorithm`: The hyperparameter sampling algorithm to use over the search space. Allowed values are `random`, `grid` and `bayesian`.\n",
        "- `primary_metric`: The name of the primary metric reported by each trial job. The metric must be logged in the user's training script using `mlflow.log_metric()` with the same corresponding metric name.\n",
        "- `goal`: The optimization goal of the `primary_metric`. The allowed values are `maximize` and `minimize`.\n",
        "- `limits`: Limits for the sweep job. For example, the maximum amount of trials or models you want to train.\n",
        "\n",
        "Note that the command job is used as the base for the sweep job. The configuration for the command job will be reused by the sweep job."
      ]
    },
    {
      "cell_type": "code",
      "execution_count": null,
      "metadata": {
        "gather": {
          "logged": 1667592681475
        },
        "jupyter": {
          "outputs_hidden": false,
          "source_hidden": false
        },
        "nteract": {
          "transient": {
            "deleting": false
          }
        },
        "vscode": {
          "languageId": "python"
        }
      },
      "outputs": [],
      "source": [
        "# apply the sweep parameter to obtain the sweep_job\n",
        "sweep_job = command_job_for_sweep.sweep(\n",
        "    compute=\"aml-cluster\",\n",
        "    sampling_algorithm=\"grid\",\n",
        "    primary_metric=\"training_accuracy_score\",\n",
        "    goal=\"Maximize\",\n",
        ")\n",
        "\n",
        "# set the name of the sweep job experiment\n",
        "sweep_job.experiment_name=\"sweep-diabetes\"\n",
        "\n",
        "# define the limits for this sweep\n",
        "sweep_job.set_limits(max_total_trials=4, max_concurrent_trials=2, timeout=7200)"
      ]
    },
    {
      "cell_type": "markdown",
      "metadata": {},
      "source": [
        "Run the following cell to submit the sweep job."
      ]
    },
    {
      "cell_type": "code",
      "execution_count": null,
      "metadata": {
        "gather": {
          "logged": 1667592716881
        },
        "jupyter": {
          "outputs_hidden": false,
          "source_hidden": false
        },
        "nteract": {
          "transient": {
            "deleting": false
          }
        },
        "vscode": {
          "languageId": "python"
        }
      },
      "outputs": [],
      "source": [
        "returned_sweep_job = ml_client.create_or_update(sweep_job)\n",
        "aml_url = returned_sweep_job.studio_url\n",
        "print(\"Monitor your job at\", aml_url)"
      ]
    },
    {
      "cell_type": "markdown",
      "metadata": {},
      "source": [
        "When the job is completed, navigate to the job overview. The **Trials** tab will show all models that have been trained and how the `Accuracy` score differs for each regularization rate value you tried."
      ]
    }
  ],
  "metadata": {
    "kernel_info": {
      "name": "python38-azureml"
    },
    "kernelspec": {
      "display_name": "Python 3.8 - AzureML",
      "language": "python",
      "name": "python38-azureml"
    },
    "microsoft": {
      "host": {
        "AzureML": {
          "notebookHasBeenCompleted": true
        }
      }
    },
    "nteract": {
      "version": "nteract-front-end@1.0.0"
    },
    "vscode": {
      "interpreter": {
        "hash": "f2b2cd046deda8eabef1e765a11d0ec9aa9bd1d31d56ce79c815a38c323e14ec"
      }
    }
  },
  "nbformat": 4,
  "nbformat_minor": 2
}