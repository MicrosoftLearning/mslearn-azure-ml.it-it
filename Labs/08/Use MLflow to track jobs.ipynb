{
  "cells": [
    {
      "cell_type": "markdown",
      "metadata": {},
      "source": [
        "# Eseguire uno script di training come processo di comando\n",
        "\n",
        "È possibile usare Python SDK per Azure Machine Learning per inviare script come processi di comando. Usando i processi, è possibile tenere traccia facilmente dei parametri di input e degli output durante il training di un modello di Machine Learning.\n",
        "\n",
        "## Prima di iniziare\n",
        "\n",
        "È necessaria la versione più recente del pacchetto **azureml-ai-ml** per eseguire il codice in questo notebook. Eseguire la cella seguente per verificare che sia installata.\n",
        "\n",
        "> **Nota**:\n",
        "> Se il pacchetto **azure-ai-ml** non è installato, eseguirlo `pip install azure-ai-ml` per installarlo."
      ]
    },
    {
      "cell_type": "code",
      "execution_count": null,
      "metadata": {
        "vscode": {
          "languageId": "python"
        }
      },
      "outputs": [],
      "source": [
        "## Connettersi all'area di lavoro\n",
        "\n",
        "Con i pacchetti SDK necessari installati, è ora possibile connettersi all'area di lavoro.\n",
        "\n",
        "Per connettersi a un'area di lavoro, sono necessari parametri di identificatore: ID sottoscrizione, nome del gruppo di risorse e nome dell'area di lavoro. Il nome del gruppo di risorse e il nome dell'area di lavoro sono già compilati. È necessario solo l'ID sottoscrizione per completare il comando.\n",
        "\n",
        "Per trovare i parametri necessari, fare clic sulla sottoscrizione e sul nome dell'area di lavoro nella parte superiore destra di Studio. Un riquadro verrà aperto a destra.\n",
        "\n",
        "<p style=\"color:red;font-size:120%;background-color:yellow;font-weight:bold\"> Copiare l'ID sottoscrizione e sostituire **YOUR-SUBSCRIPTION-ID** con il valore copiato. </p>"
      ]
    },
    {
      "attachments": {},
      "cell_type": "markdown",
      "metadata": {},
      "source": [
        "## Rilevamento personalizzato con MLflow\n",
        "\n",
        "Quando si esegue uno script come processo, è possibile usare MLflow nello script di training per tenere traccia del modello. MLflow consente di tenere traccia di tutti i parametri, le metriche o gli artefatti personalizzati da archiviare con l'output del processo.\n",
        "\n",
        "Eseguire le celle seguenti per creare lo script **di train-model-mlflow.py** nella cartella **src** . Lo script esegue il training di un modello di classificazione usando il file **diabetes.csv** nella stessa cartella, che viene passato come argomento. \n",
        "\n",
        "Esaminare il codice seguente per trovare che lo script importerà `mlflow` e logrà:\n",
        "\n",
        "- Frequenza di regolarizzazione come **parametro**. \n",
        "- Accuratezza e AUC come **metriche**.\n",
        "- Curva ROC tracciata come **artefatto**."
      ]
    },
    {
      "cell_type": "code",
      "execution_count": null,
      "metadata": {
        "gather": {
          "logged": 1663753569264
        },
        "vscode": {
          "languageId": "python"
        }
      },
      "outputs": [],
      "source": [
        "È ora possibile inviare lo script come processo di comando.\n",
        "\n",
        "Eseguire la cella seguente per eseguire il training del modello. "
      ]
    },
    {
      "cell_type": "code",
      "execution_count": null,
      "metadata": {
        "vscode": {
          "languageId": "python"
        }
      },
      "outputs": [],
      "source": [
        "In Studio passare al processo **diabete-training-mlflow** per esplorare la panoramica del processo di comando eseguito:\n",
        "\n",
        "- Trovare i parametri registrati nella scheda **Panoramica** , in **Params**.\n",
        "- Trovare le metriche registrate nella scheda **Metriche** .\n",
        "- Trovare gli artefatti registrati nella scheda **Immagini** (in particolare per le immagini) e nella scheda **Output e log** (tutti i file)."
      ]
    },
    {
      "cell_type": "markdown",
      "metadata": {},
      "source": [
        "## Assegnazione automatica dell'assegnazione automatica con MLflow\n",
        "\n",
        "Anziché usare la registrazione personalizzata, MLflow può anche registrare automaticamente tutti i parametri, le metriche e gli artefatti. L'assegnazione automatica con MLflow richiede solo una riga di codice.\n",
        "\n",
        "Eseguire la cella seguente per creare lo script **train-model-autolog.py** nella cartella **src** . Lo script esegue il training di un modello di classificazione usando il file **diabetes.csv** nella stessa cartella, che viene passato come argomento. \n",
        "\n",
        "Esaminare il codice seguente per trovare che lo script importerà `mlflow` e abilita l'assegnazione automatica dei tag con la riga: \n",
        "\n",
        "`mlflow.autolog()`"
      ]
    },
    {
      "cell_type": "code",
      "execution_count": null,
      "metadata": {
        "vscode": {
          "languageId": "python"
        }
      },
      "outputs": [],
      "source": [
        "È ora possibile inviare lo script come processo di comando.\n",
        "\n",
        "Eseguire la cella seguente per eseguire il training del modello. "
      ]
    },
    {
      "cell_type": "code",
      "execution_count": null,
      "metadata": {
        "vscode": {
          "languageId": "python"
        }
      },
      "outputs": [],
      "source": [
        "In Studio passare al processo **diabete-training-autolog** per esplorare la panoramica del processo di comando eseguito:\n",
        "\n",
        "- Trovare i parametri registrati nella scheda **Panoramica** , in **Params**.\n",
        "- Trovare le metriche registrate nella scheda **Metriche** .\n",
        "- Trovare gli artefatti registrati nella scheda **Immagini** (in particolare per le immagini) e nella scheda **Output e log** (tutti i file, inclusi i file di modello)."
      ]
    },
    {
      "cell_type": "markdown",
      "metadata": {},
      "source": [
        "## Usare MLflow per visualizzare e cercare esperimenti\n",
        "\n",
        "Azure Machine Learning Studio è un'interfaccia utente facile da usare per visualizzare e confrontare le esecuzioni dei processi. In alternativa, è possibile usare MLflow per visualizzare i processi di esperimento. \n",
        "\n",
        "Per elencare i processi nell'area di lavoro, usare il comando seguente per elencare gli esperimenti nell'area di lavoro:\n"
      ]
    },
    {
      "cell_type": "code",
      "execution_count": null,
      "metadata": {
        "vscode": {
          "languageId": "python"
        }
      },
      "outputs": [],
      "source": [
        "Per recuperare un esperimento specifico, è possibile ottenerlo in base al nome:"
      ]
    },
    {
      "cell_type": "markdown",
      "metadata": {},
      "source": [
        "Usando un nome di esperimento, è possibile recuperare tutti i processi dell'esperimento:"
      ]
    },
    {
      "cell_type": "markdown",
      "metadata": {},
      "source": [
        "Per confrontare più facilmente le esecuzioni e gli output dei processi, è possibile configurare la ricerca per ordinare i risultati. Ad esempio, la cella seguente ordina i risultati in `start_time`base a e mostra solo un massimo di `2` risultati: "
      ]
    },
    {
      "cell_type": "code",
      "execution_count": null,
      "metadata": {
        "vscode": {
          "languageId": "python"
        }
      },
      "outputs": [],
      "source": [
        "È anche possibile creare una query per filtrare le esecuzioni. Le stringhe di query di filtro vengono scritte con una versione semplificata della clausola SQL `WHERE` . \n",
        "\n",
        "Per filtrare, è possibile usare due classi di comparatori:\n",
        "\n",
        "- Confronto numerico (metriche): =, !=, >, >=, < e <=.\n",
        "- Confronto di stringhe (params, tag e attributi): = e !=.\n",
        "\n",
        "Altre informazioni su [come tenere traccia degli esperimenti con MLflow](https://learn.microsoft.com/azure/machine-learning/how-to-track-experiments-mlflow)."
      ]
    },
    {
      "cell_type": "markdown",
      "metadata": {},
      "source": [
        "Now, you can submit the script as a command job.\n",
        "\n",
        "Run the cell below to train the model. "
      ]
    },
    {
      "cell_type": "code",
      "execution_count": null,
      "metadata": {
        "vscode": {
          "languageId": "python"
        }
      },
      "outputs": [],
      "source": [
        "from azure.ai.ml import command\n",
        "\n",
        "# configure job\n",
        "\n",
        "job = command(\n",
        "    code=\"./src\",\n",
        "    command=\"python train-model-autolog.py --training_data diabetes.csv\",\n",
        "    environment=\"AzureML-sklearn-0.24-ubuntu18.04-py37-cpu@latest\",\n",
        "    compute=\"aml-cluster\",\n",
        "    display_name=\"diabetes-train-autolog\",\n",
        "    experiment_name=\"diabetes-training\"\n",
        "    )\n",
        "\n",
        "# submit job\n",
        "returned_job = ml_client.create_or_update(job)\n",
        "aml_url = returned_job.studio_url\n",
        "print(\"Monitor your job at\", aml_url)"
      ]
    },
    {
      "cell_type": "markdown",
      "metadata": {},
      "source": [
        "In the Studio, navigate to the **diabetes-train-autolog** job to explore the overview of the command job you ran:\n",
        "\n",
        "- Find the logged parameters in the **Overview** tab, under **Params**.\n",
        "- Find the logged metrics in the **Metrics** tab.\n",
        "- Find the logged artifacts in the **Images** tab (specifically for images), and in the **Outputs + logs** tab (all files, including the model files)."
      ]
    },
    {
      "cell_type": "markdown",
      "metadata": {},
      "source": [
        "## Use MLflow to view and search for experiments\n",
        "\n",
        "The Azure Machine Learning Studio is an easy-to-use UI to view and compare job runs. Alternatively, you can use MLflow to view experiment jobs. \n",
        "\n",
        "To list the jobs in the workspace, use the following command to list the experiments in the workspace:\n"
      ]
    },
    {
      "cell_type": "code",
      "execution_count": null,
      "metadata": {
        "vscode": {
          "languageId": "python"
        }
      },
      "outputs": [],
      "source": [
        "import mlflow\n",
        "experiments = mlflow.list_experiments()\n",
        "for exp in experiments:\n",
        "    print(exp.name)"
      ]
    },
    {
      "cell_type": "markdown",
      "metadata": {},
      "source": [
        "To retrieve a specific experiment, you can get it by its name:"
      ]
    },
    {
      "cell_type": "code",
      "execution_count": null,
      "metadata": {
        "vscode": {
          "languageId": "python"
        }
      },
      "outputs": [],
      "source": [
        "experiment_name = \"diabetes-training\"\n",
        "exp = mlflow.get_experiment_by_name(experiment_name)\n",
        "print(exp)"
      ]
    },
    {
      "cell_type": "markdown",
      "metadata": {},
      "source": [
        "Using an experiment name, you can retrieve all jobs of that experiment:"
      ]
    },
    {
      "cell_type": "code",
      "execution_count": null,
      "metadata": {
        "vscode": {
          "languageId": "python"
        }
      },
      "outputs": [],
      "source": [
        "mlflow.search_runs(exp.experiment_id)"
      ]
    },
    {
      "cell_type": "markdown",
      "metadata": {},
      "source": [
        "To more easily compare job runs and outputs, you can configure the search to order the results. For example, the following cell orders the results by `start_time`, and only shows a maximum of `2` results: "
      ]
    },
    {
      "cell_type": "code",
      "execution_count": null,
      "metadata": {
        "vscode": {
          "languageId": "python"
        }
      },
      "outputs": [],
      "source": [
        "mlflow.search_runs(exp.experiment_id, order_by=[\"start_time DESC\"], max_results=2)"
      ]
    },
    {
      "cell_type": "markdown",
      "metadata": {},
      "source": [
        "You can even create a query to filter the runs. Filter query strings are written with a simplified version of the SQL `WHERE` clause. \n",
        "\n",
        "To filter, you can use two classes of comparators:\n",
        "\n",
        "- Numeric comparators (metrics): =, !=, >, >=, <, and <=.\n",
        "- String comparators (params, tags, and attributes): = and !=.\n",
        "\n",
        "Learn more about [how to track experiments with MLflow](https://learn.microsoft.com/azure/machine-learning/how-to-track-experiments-mlflow)."
      ]
    },
    {
      "cell_type": "code",
      "execution_count": null,
      "metadata": {
        "vscode": {
          "languageId": "python"
        }
      },
      "outputs": [],
      "source": [
        "query = \"metrics.AUC > 0.8 and tags.model_type = 'LogisticRegression'\"\n",
        "mlflow.search_runs(exp.experiment_id, filter_string=query)"
      ]
    }
  ],
  "metadata": {
    "kernel_info": {
      "name": "python38-azureml"
    },
    "kernelspec": {
      "display_name": "Python 3.8 - AzureML",
      "language": "python",
      "name": "python38-azureml"
    },
    "microsoft": {
      "host": {
        "AzureML": {
          "notebookHasBeenCompleted": true
        }
      }
    },
    "nteract": {
      "version": "nteract-front-end@1.0.0"
    },
    "vscode": {
      "interpreter": {
        "hash": "f2b2cd046deda8eabef1e765a11d0ec9aa9bd1d31d56ce79c815a38c323e14ec"
      }
    }
  },
  "nbformat": 4,
  "nbformat_minor": 2
}