{
  "cells": [
    {
      "cell_type": "markdown",
      "metadata": {},
      "source": [
        "# Tenere traccia del training del modello nei notebook con MLflow\n",
        "\n",
        "È possibile usare MLflow in un notebook per tenere traccia di tutti i modelli di cui si esegue il training. Man mano che si eseguirà questo notebook con un'istanza di calcolo di Azure Machine Learning, non è necessario configurare MLflow: è già installato e integrato. \n",
        "\n",
        "Si prepareranno alcuni dati e si eseguirà il training di un modello per stimare il diabete. Si userà l'assegnazione automatica e la registrazione personalizzata per esplorare come usare MLflow nei notebook.\n",
        "\n",
        "## Prima di iniziare\n",
        "\n",
        "È necessaria la versione più recente del pacchetto **azureml-ai-ml** per eseguire il codice in questo notebook. Eseguire la cella seguente per verificare che sia installata.\n",
        "\n",
        "> **Nota**:\n",
        "> Se il pacchetto **azure-ai-ml** non è installato, eseguirlo `pip install azure-ai-ml` per installarlo."
      ]
    },
    {
      "cell_type": "code",
      "execution_count": null,
      "metadata": {
        "jupyter": {
          "outputs_hidden": false,
          "source_hidden": false
        },
        "nteract": {
          "transient": {
            "deleting": false
          }
        },
        "vscode": {
          "languageId": "python"
        }
      },
      "outputs": [],
      "source": [
        "## Connettersi all'area di lavoro\n",
        "\n",
        "Con i pacchetti SDK necessari installati, è ora possibile connettersi all'area di lavoro.\n",
        "\n",
        "Per connettersi a un'area di lavoro, sono necessari parametri di identificatore: ID sottoscrizione, nome del gruppo di risorse e nome dell'area di lavoro. Il nome del gruppo di risorse e il nome dell'area di lavoro sono già compilati. È necessario solo l'ID sottoscrizione per completare il comando.\n",
        "\n",
        "Per trovare i parametri necessari, fare clic sulla sottoscrizione e sul nome dell'area di lavoro nella parte superiore destra di Studio. Un riquadro verrà aperto a destra.\n",
        "\n",
        "<p style=\"color:red;font-size:120%;background-color:yellow;font-weight:bold\"> Copiare l'ID sottoscrizione e sostituire **YOUR-SUBSCRIPTION-ID** con il valore copiato. </p>"
      ]
    },
    {
      "attachments": {},
      "cell_type": "markdown",
      "metadata": {},
      "source": [
        "## Configurare MLflow\n",
        "\n",
        "Quando si esegue questo notebook in un'istanza di calcolo nel studio di Azure Machine Learning, non è necessario configurare MLflow. \n",
        "\n",
        "È comunque consigliabile verificare che le librerie necessarie siano effettivamente installate:"
      ]
    },
    {
      "cell_type": "code",
      "execution_count": null,
      "metadata": {
        "gather": {
          "logged": 1668168317138
        },
        "jupyter": {
          "outputs_hidden": false,
          "source_hidden": false
        },
        "nteract": {
          "transient": {
            "deleting": false
          }
        },
        "vscode": {
          "languageId": "python"
        }
      },
      "outputs": [],
      "source": [
        "## Preparare i dati\n",
        "\n",
        "Si eseguirà il training di un modello di classificazione del diabete. I dati di training vengono archiviati nella cartella **dati** come **diabetes.csv**. \n",
        "\n",
        "Prima di tutto, leggiamo i dati:"
      ]
    },
    {
      "cell_type": "code",
      "execution_count": null,
      "metadata": {
        "gather": {
          "logged": 1668168324029
        },
        "jupyter": {
          "outputs_hidden": false,
          "source_hidden": false
        },
        "nteract": {
          "transient": {
            "deleting": false
          }
        },
        "vscode": {
          "languageId": "python"
        }
      },
      "outputs": [],
      "source": [
        "Successivamente, si suddivideranno i dati in funzionalità e l'etichetta (Diabete):"
      ]
    },
    {
      "cell_type": "markdown",
      "metadata": {},
      "source": [
        "Sono ora disponibili quattro dataframe:\n",
        "\n",
        "- `X_train`: set di dati di training contenente le funzionalità.\n",
        "- `X_test`: set di dati di test contenente le funzionalità.\n",
        "- `y_train`: etichetta per il set di dati di training.\n",
        "- `y_test`: etichetta per il set di dati di test.\n",
        "\n",
        "Questi verranno usati per eseguire il training e valutare i modelli a cui si eseguirà il training.\n",
        "\n",
        "## Creare un esperimento MLflow\n",
        "\n",
        "Dopo aver eseguito il training dei modelli di Machine Learning, si creerà prima un esperimento MLflow. Creando l'esperimento, è possibile raggruppare tutte le esecuzioni all'interno di un esperimento e semplificare la ricerca delle esecuzioni in studio."
      ]
    },
    {
      "cell_type": "code",
      "execution_count": null,
      "metadata": {
        "gather": {
          "logged": 1668168155287
        },
        "jupyter": {
          "outputs_hidden": false,
          "source_hidden": false
        },
        "nteract": {
          "transient": {
            "deleting": false
          }
        },
        "vscode": {
          "languageId": "python"
        }
      },
      "outputs": [],
      "source": [
        "## Eseguire il training e tenere traccia dei modelli\n",
        "\n",
        "Per tenere traccia di un modello sottoposto a training, è possibile usare MLflow e abilitare l'assegnazione automatica dei tag. La cella seguente eseguirà il training di un modello di classificazione usando la regressione logistica. Si noterà che non è necessario calcolare le metriche di valutazione perché vengono create e registrate automaticamente da MLflow."
      ]
    },
    {
      "cell_type": "code",
      "execution_count": null,
      "metadata": {
        "gather": {
          "logged": 1668168179344
        },
        "jupyter": {
          "outputs_hidden": false,
          "source_hidden": false
        },
        "nteract": {
          "transient": {
            "deleting": false
          }
        },
        "vscode": {
          "languageId": "python"
        }
      },
      "outputs": [],
      "source": [
        "È anche possibile usare la registrazione personalizzata con MLflow. È possibile aggiungere la registrazione personalizzata all'assegnazione automatica o usare solo la registrazione personalizzata.\n",
        "\n",
        "Eseguiamo il training di due altri modelli con scikit-learn. Poiché è stato eseguito il `mlflow.sklearn.autolog()` comando precedente, MLflow ora registra automaticamente qualsiasi modello sottoposto a training con scikit-learn. Per disabilitare l'assegnazione automatica, eseguire la cella seguente:"
      ]
    },
    {
      "cell_type": "markdown",
      "metadata": {},
      "source": [
        "È ora possibile eseguire il training e tenere traccia dei modelli usando solo la registrazione personalizzata. \n",
        "\n",
        "Quando si esegue la cella seguente, si registra solo un parametro e una metrica."
      ]
    },
    {
      "cell_type": "code",
      "execution_count": null,
      "metadata": {
        "gather": {
          "logged": 1668175953133
        },
        "vscode": {
          "languageId": "python"
        }
      },
      "outputs": [],
      "source": [
        "Il motivo per cui si vuole tenere traccia dei modelli potrebbe essere quello di confrontare i risultati dei modelli sottoposti a training con valori iperparametri diversi. \n",
        "\n",
        "Ad esempio, è stato eseguito il training di un modello di regressione logistica con una frequenza di regolarizzazione pari a 0,1. Ora, eseguire il training di un altro modello, ma questa volta con una frequenza di regolarizzazione pari a 0,01. Poiché si tiene traccia anche dell'accuratezza, è possibile confrontare e decidere quali risultati in un modello con prestazioni migliori."
      ]
    },
    {
      "cell_type": "markdown",
      "metadata": {},
      "source": [
        "Un altro motivo per tenere traccia dei risultati del modello è quando si sta testando un altro stimatore. Tutti i modelli sottoposti a training finora hanno usato lo strumento di stima della regressione logistica. \n",
        "\n",
        "Eseguire la cella seguente per eseguire il training di un modello con lo strumento di stima dell'albero delle decisioni e verificare se l'accuratezza è superiore rispetto alle altre esecuzioni."
      ]
    },
    {
      "cell_type": "code",
      "execution_count": null,
      "metadata": {
        "gather": {
          "logged": 1668175956555
        },
        "vscode": {
          "languageId": "python"
        }
      },
      "outputs": [],
      "source": [
        "Infine, provare a registrare un artefatto. Un artefatto può essere qualsiasi file. Ad esempio, è possibile tracciare la curva ROC e archiviare il tracciato come immagine. L'immagine può essere registrata come artefatto. \n",
        "\n",
        "Eseguire la cella seguente per registrare un parametro, una metrica e un artefatto."
      ]
    },
    {
      "cell_type": "code",
      "execution_count": null,
      "metadata": {
        "gather": {
          "logged": 1668175959902
        },
        "vscode": {
          "languageId": "python"
        }
      },
      "outputs": [],
      "source": [
        "Esaminare i risultati del modello nella pagina Processi della studio di Azure Machine Learning. \n",
        "\n",
        "- I parametri sono disponibili in **Params** nella scheda **Panoramica** .\n",
        "- Le **metriche** sono disponibili nella scheda **Panoramica** e nella scheda **Metriche** .\n",
        "- Gli artefatti sono disponibili nella scheda **Output e log** .\n",
        "\n",
        "![Screenshot delle schede output e log nella pagina Processi.](./images/output-logs.png)"
      ]
    },
    {
      "cell_type": "markdown",
      "metadata": {},
      "source": [
        "You now have four dataframes:\n",
        "\n",
        "- `X_train`: The training dataset containing the features.\n",
        "- `X_test`: The test dataset containing the features.\n",
        "- `y_train`: The label for the training dataset.\n",
        "- `y_test`: The label for the test dataset.\n",
        "\n",
        "You'll use these to train and evaluate the models you'll train.\n",
        "\n",
        "## Create an MLflow experiment\n",
        "\n",
        "Now that you're ready to train machine learning models, you'll first create an MLflow experiment. By creating the experiment, you can group all runs within one experiment and make it easier to find the runs in the studio."
      ]
    },
    {
      "cell_type": "code",
      "execution_count": null,
      "metadata": {
        "vscode": {
          "languageId": "python"
        }
      },
      "outputs": [],
      "source": [
        "import mlflow\n",
        "experiment_name = \"mlflow-experiment-diabetes\"\n",
        "mlflow.set_experiment(experiment_name)"
      ]
    },
    {
      "cell_type": "markdown",
      "metadata": {},
      "source": [
        "## Train and track models\n",
        "\n",
        "To track a model you train, you can use MLflow and enable autologging. The following cell will train a classification model using logistic regression. You'll notice that you don't need to calculate any evaluation metrics because they're automatically created and logged by MLflow."
      ]
    },
    {
      "cell_type": "code",
      "execution_count": null,
      "metadata": {
        "gather": {
          "logged": 1668176121803
        },
        "vscode": {
          "languageId": "python"
        }
      },
      "outputs": [],
      "source": [
        "from sklearn.linear_model import LogisticRegression\n",
        "\n",
        "with mlflow.start_run():\n",
        "    mlflow.sklearn.autolog()\n",
        "\n",
        "    model = LogisticRegression(C=1/0.1, solver=\"liblinear\").fit(X_train, y_train)\n"
      ]
    },
    {
      "cell_type": "markdown",
      "metadata": {},
      "source": [
        "You can also use custom logging with MLflow. You can add custom logging to autologging, or you can use only custom logging.\n",
        "\n",
        "Let's train two more models with scikit-learn. Since you ran the `mlflow.sklearn.autolog()` command before, MLflow will now automatically log any model trained with scikit-learn. To disable the autologging, run the following cell:"
      ]
    },
    {
      "cell_type": "code",
      "execution_count": null,
      "metadata": {
        "gather": {
          "logged": 1668177101622
        },
        "jupyter": {
          "outputs_hidden": false,
          "source_hidden": false
        },
        "nteract": {
          "transient": {
            "deleting": false
          }
        },
        "vscode": {
          "languageId": "python"
        }
      },
      "outputs": [],
      "source": [
        "mlflow.sklearn.autolog(disable=True)"
      ]
    },
    {
      "cell_type": "markdown",
      "metadata": {},
      "source": [
        "Now, you can train and track models using only custom logging. \n",
        "\n",
        "When you run the following cell, you'll only log one parameter and one metric."
      ]
    },
    {
      "cell_type": "code",
      "execution_count": null,
      "metadata": {
        "jupyter": {
          "outputs_hidden": false,
          "source_hidden": false
        },
        "nteract": {
          "transient": {
            "deleting": false
          }
        },
        "vscode": {
          "languageId": "python"
        }
      },
      "outputs": [],
      "source": [
        "from sklearn.linear_model import LogisticRegression\n",
        "import numpy as np\n",
        "\n",
        "with mlflow.start_run():\n",
        "    model = LogisticRegression(C=1/0.1, solver=\"liblinear\").fit(X_train, y_train)\n",
        "\n",
        "    y_hat = model.predict(X_test)\n",
        "    acc = np.average(y_hat == y_test)\n",
        "\n",
        "    mlflow.log_param(\"regularization_rate\", 0.1)\n",
        "    mlflow.log_metric(\"Accuracy\", acc)"
      ]
    },
    {
      "cell_type": "markdown",
      "metadata": {},
      "source": [
        "The reason why you'd want to track models, could be to compare the results of models you train with different hyperparameter values. \n",
        "\n",
        "For example, you just trained a logistic regression model with a regularization rate of 0.1. Now, train another model, but this time with a regularization rate of 0.01. Since you're also tracking the accuracy, you can compare and decide which rate results in a better performing model."
      ]
    },
    {
      "cell_type": "code",
      "execution_count": null,
      "metadata": {
        "gather": {
          "logged": 1668177593117
        },
        "jupyter": {
          "outputs_hidden": false,
          "source_hidden": false
        },
        "nteract": {
          "transient": {
            "deleting": false
          }
        },
        "vscode": {
          "languageId": "python"
        }
      },
      "outputs": [],
      "source": [
        "from sklearn.linear_model import LogisticRegression\n",
        "import numpy as np\n",
        "\n",
        "with mlflow.start_run():\n",
        "    model = LogisticRegression(C=1/0.01, solver=\"liblinear\").fit(X_train, y_train)\n",
        "\n",
        "    y_hat = model.predict(X_test)\n",
        "    acc = np.average(y_hat == y_test)\n",
        "\n",
        "    mlflow.log_param(\"regularization_rate\", 0.01)\n",
        "    mlflow.log_metric(\"Accuracy\", acc)"
      ]
    },
    {
      "cell_type": "markdown",
      "metadata": {},
      "source": [
        "Another reason to track your model's results is when you're testing another estimator. All models you've trained so far used the logistic regression estimator. \n",
        "\n",
        "Run the following cell to train a model with the decision tree classifier estimator and review whether the accuracy is higher compared to the other runs."
      ]
    },
    {
      "cell_type": "code",
      "execution_count": null,
      "metadata": {
        "gather": {
          "logged": 1668177807904
        },
        "jupyter": {
          "outputs_hidden": false,
          "source_hidden": false
        },
        "nteract": {
          "transient": {
            "deleting": false
          }
        },
        "vscode": {
          "languageId": "python"
        }
      },
      "outputs": [],
      "source": [
        "from sklearn.tree import DecisionTreeClassifier\n",
        "import numpy as np\n",
        "\n",
        "with mlflow.start_run():\n",
        "    model = DecisionTreeClassifier().fit(X_train, y_train)\n",
        "\n",
        "    y_hat = model.predict(X_test)\n",
        "    acc = np.average(y_hat == y_test)\n",
        "\n",
        "    mlflow.log_param(\"estimator\", \"DecisionTreeClassifier\")\n",
        "    mlflow.log_metric(\"Accuracy\", acc)"
      ]
    },
    {
      "cell_type": "markdown",
      "metadata": {},
      "source": [
        "Finally, let's try to log an artifact. An artifact can be any file. For example, you can plot the ROC curve and store the plot as an image. The image can be logged as an artifact. \n",
        "\n",
        "Run the following cell to log a parameter, metric, and an artifact."
      ]
    },
    {
      "cell_type": "code",
      "execution_count": null,
      "metadata": {
        "vscode": {
          "languageId": "python"
        }
      },
      "outputs": [],
      "source": [
        "from sklearn.tree import DecisionTreeClassifier\n",
        "from sklearn.metrics import roc_curve\n",
        "import matplotlib.pyplot as plt\n",
        "import numpy as np\n",
        "\n",
        "with mlflow.start_run():\n",
        "    model = DecisionTreeClassifier().fit(X_train, y_train)\n",
        "\n",
        "    y_hat = model.predict(X_test)\n",
        "    acc = np.average(y_hat == y_test)\n",
        "\n",
        "    # plot ROC curve\n",
        "    y_scores = model.predict_proba(X_test)\n",
        "\n",
        "    fpr, tpr, thresholds = roc_curve(y_test, y_scores[:,1])\n",
        "    fig = plt.figure(figsize=(6, 4))\n",
        "    # Plot the diagonal 50% line\n",
        "    plt.plot([0, 1], [0, 1], 'k--')\n",
        "    # Plot the FPR and TPR achieved by our model\n",
        "    plt.plot(fpr, tpr)\n",
        "    plt.xlabel('False Positive Rate')\n",
        "    plt.ylabel('True Positive Rate')\n",
        "    plt.title('ROC Curve')\n",
        "    plt.savefig(\"ROC-Curve.png\")\n",
        "\n",
        "    mlflow.log_param(\"estimator\", \"DecisionTreeClassifier\")\n",
        "    mlflow.log_metric(\"Accuracy\", acc)\n",
        "    mlflow.log_artifact(\"ROC-Curve.png\")"
      ]
    },
    {
      "cell_type": "markdown",
      "metadata": {},
      "source": [
        "Review the model's results on the Jobs page of the Azure Machine Learning studio. \n",
        "\n",
        "- You'll find the parameters under **Params** in the **Overview** tab.\n",
        "- You'll find the metrics under **Metrics** in the **Overview** tab, and in the **Metrics** tab.\n",
        "- You'll find the artifacts in the **Outputs + logs** tab.\n",
        "\n",
        "![Screenshot of outputs and logs tab on the Jobs page.](./images/output-logs.png)"
      ]
    }
  ],
  "metadata": {
    "interpreter": {
      "hash": "f2b2cd046deda8eabef1e765a11d0ec9aa9bd1d31d56ce79c815a38c323e14ec"
    },
    "kernel_info": {
      "name": "python38-azureml"
    },
    "kernelspec": {
      "display_name": "Python 3.8 - AzureML",
      "language": "python",
      "name": "python38-azureml"
    },
    "microsoft": {
      "host": {
        "AzureML": {
          "notebookHasBeenCompleted": true
        }
      }
    },
    "nteract": {
      "version": "nteract-front-end@1.0.0"
    }
  },
  "nbformat": 4,
  "nbformat_minor": 0
}